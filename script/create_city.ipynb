{
 "cells": [
  {
   "cell_type": "markdown",
   "metadata": {
    "deletable": true,
    "editable": true,
    "slideshow": {
     "slide_type": "slide"
    }
   },
   "source": [
    "# Urban dashboard\n",
    "\n",
    "## Listes villes \n",
    "\n",
    "+ Cameroun\n",
    " + Yaoundé\n",
    " +    Douala\n",
    " + Bamenda\n",
    " + Bafoussam\n",
    " + Ngaoundéré\n",
    " + Nkongsamba\n",
    "+ République Dominicaine\n",
    " +    Saint Domingue\n",
    "+ Indonésie\n",
    " +    Bandung\n",
    "+ Maroc\n",
    " + Fès\n",
    " + Rabat/ Salé\n",
    " + Oujda\n",
    " + Agadir\n",
    " + Kenitra\n",
    " + Beni Melal\n",
    " + Marrakech\n",
    " + Khourigba\n",
    " + Ej Jadida\n",
    " + Settat\n",
    " + Safi\n",
    " + Khenisset\n",
    " + Laayoune\n",
    " + Meknes\n",
    " + Tanger\n",
    " \n"
   ]
  },
  {
   "cell_type": "markdown",
   "metadata": {},
   "source": [
    "### Phase 1: Get coordinates from a city list "
   ]
  },
  {
   "cell_type": "code",
   "execution_count": 9,
   "metadata": {
    "collapsed": false
   },
   "outputs": [
    {
     "name": "stdout",
     "output_type": "stream",
     "text": [
      "Jakarta\n",
      "Surabaya\n",
      "Bandung\n",
      "Yaoundé\n",
      "Douala\n",
      "Bamenda\n",
      "Bafoussam\n",
      "Ngaoundéré\n",
      "Nkongsamba\n",
      "Fès\n",
      "Rabat\n",
      "Oujda\n",
      "Agadir\n",
      "Kénitra\n",
      "Beni melal\n",
      "Marrakech\n",
      "Khourigba\n",
      "Ej Jadida\n",
      "Settat\n",
      "Safi\n",
      "Khenisset\n",
      "Laayoune\n",
      "Meknes\n",
      "Tanger\n",
      "Saint Domingue\n"
     ]
    }
   ],
   "source": [
    " maroc = [\"Fès\", \"Rabat\", \"Oujda\", \"Agadir\", \"Kénitra\", \"Beni melal\",\"Marrakech\",\"Khourigba\",\"Ej Jadida\",\"Settat\",\"Safi\",\"Khenisset\",\"Laayoune\",\"Meknes\",\"Tanger\"]\n",
    "\n",
    "cameroun = [\"Yaoundé\", \"Douala\", \"Bamenda\", \"Bafoussam\", \"Ngaoundéré\", \"Nkongsamba\"]\n",
    "\n",
    "indonesie = [\"Jakarta\", \"Surabaya\", \"Bandung\"]\n",
    "\n",
    "rep_dom = [\"Saint Domingue\"] \n",
    "\n",
    "liste_pays = {\"Maroc\":maroc, \"Cameroun\": cameroun, \"Indonésie\":indonesie, \"République Dominicaine\": rep_dom}\n",
    "\n",
    "import geocoder\n",
    "\n",
    "\n",
    "coo = {}\n",
    "bbox = {}\n",
    "for i in liste_pays:\n",
    "    for j in liste_pays[i]:\n",
    "        g = geocoder.google(j)\n",
    "        print(j)\n",
    "        t =g.latlng\n",
    "        coo[j] =  t\n",
    "        bbox[j] = [t[0]-0.15, t[1]-0.15, t[0]+0.15, t[1]+0.15]\n",
    "        \n"
   ]
  },
  {
   "cell_type": "code",
   "execution_count": 10,
   "metadata": {
    "collapsed": false
   },
   "outputs": [
    {
     "name": "stdout",
     "output_type": "stream",
     "text": [
      "{'Surabaya': [-7.4074719, 112.60208829999999, -7.107471899999999, 112.9020883], 'K\\xc3\\xa9nitra': [34.104050300000004, -6.7390166, 34.4040503, -6.4390165999999995], 'Ngaound\\xc3\\xa9r\\xc3\\xa9': [7.1881488000000004, 13.4168302, 7.488148800000001, 13.7168302], 'Oujda': [34.531962, -2.050155, 34.831962, -1.7501550000000001], 'Saint Domingue': [18.336057500000003, -70.0812117, 18.6360575, -69.78121169999999], 'F\\xc3\\xa8s': [33.8681246, -5.1578451, 34.1681246, -4.8578451], 'Safi': [32.1508151, -9.3772033, 32.4508151, -9.077203299999999], 'Marrakech': [31.4794723, -8.1310845, 31.7794723, -7.8310845], 'Bafoussam': [5.3307516999999995, 10.2784178, 5.6307517, 10.5784178], 'Tanger': [35.6094651, -5.9839543, 35.9094651, -5.683954299999999], 'Yaound\\xc3\\xa9': [3.6980325, 11.3520752, 3.9980325, 11.6520752], 'Khourigba': [32.736023, -7.0708655, 33.036023, -6.770865499999999], 'Ej Jadida': [33.0816326, -8.6507116, 33.381632599999996, -8.350711599999999], 'Jakarta': [-6.3244651, 106.67274499999999, -6.0244651, 106.972745], 'Rabat': [33.8215904, -6.9998129, 34.121590399999995, -6.6998128999999995], 'Bandung': [-7.067463900000001, 107.4691228, -6.7674639, 107.7691228], 'Agadir': [30.277754700000003, -9.7481072, 30.5777547, -9.448107199999999], 'Khenisset': [33.6653704, -6.2073302, 33.9653704, -5.9073302], 'Settat': [32.84242419999999, -7.7722665, 33.14242419999999, -7.472266499999999], 'Beni melal': [32.192443000000004, -6.525799, 32.492443, -6.225798999999999], 'Nkongsamba': [4.824116899999999, 9.7853318, 5.1241169, 10.0853318], 'Laayoune': [26.9752867, -13.3125005, 27.2752867, -13.0125005], 'Meknes': [33.7230164, -5.6907299, 34.023016399999996, -5.390729899999999], 'Bamenda': [5.8130513, 10.0091213, 6.1130513, 10.309121300000001], 'Douala': [3.9010564000000003, 9.617868699999999, 4.201056400000001, 9.9178687]}\n",
      "{'Surabaya': [-7.2574719, 112.7520883], 'K\\xc3\\xa9nitra': [34.2540503, -6.5890166], 'Ngaound\\xc3\\xa9r\\xc3\\xa9': [7.338148800000001, 13.5668302], 'Oujda': [34.681962, -1.900155], 'Saint Domingue': [18.4860575, -69.93121169999999], 'F\\xc3\\xa8s': [34.0181246, -5.0078451], 'Safi': [32.3008151, -9.2272033], 'Marrakech': [31.6294723, -7.981084500000001], 'Bafoussam': [5.4807517, 10.4284178], 'Tanger': [35.7594651, -5.833954299999999], 'Yaound\\xc3\\xa9': [3.8480325, 11.5020752], 'Khourigba': [32.886023, -6.9208655], 'Ej Jadida': [33.2316326, -8.500711599999999], 'Jakarta': [-6.1744651, 106.822745], 'Rabat': [33.9715904, -6.8498129], 'Bandung': [-6.9174639, 107.6191228], 'Agadir': [30.4277547, -9.5981072], 'Khenisset': [33.8153704, -6.0573302], 'Settat': [32.99242419999999, -7.622266499999999], 'Beni melal': [32.342443, -6.375799], 'Nkongsamba': [4.974116899999999, 9.9353318], 'Laayoune': [27.1252867, -13.1625005], 'Meknes': [33.8730164, -5.5407299], 'Bamenda': [5.9630513, 10.1591213], 'Douala': [4.0510564, 9.7678687]}\n"
     ]
    }
   ],
   "source": [
    "print(bbox)\n",
    "print(coo)"
   ]
  },
  {
   "cell_type": "markdown",
   "metadata": {
    "collapsed": true
   },
   "source": [
    "### Phase 2: Do OSM request and create corresponding JSON\n"
   ]
  },
  {
   "cell_type": "code",
   "execution_count": 27,
   "metadata": {
    "collapsed": false
   },
   "outputs": [
    {
     "name": "stdout",
     "output_type": "stream",
     "text": [
      "Surabaya-uni.geojson\n",
      "Surabaya-hospital.geojson\n",
      "Surabaya-townhall.geojson\n",
      "Surabaya-marketplace.geojson\n",
      "Kénitra-uni.geojson\n",
      "Kénitra-hospital.geojson\n",
      "Kénitra-townhall.geojson\n",
      "Kénitra-marketplace.geojson\n",
      "Ngaoundéré-uni.geojson\n",
      "Ngaoundéré-hospital.geojson\n",
      "Ngaoundéré-townhall.geojson\n",
      "Ngaoundéré-marketplace.geojson\n",
      "Oujda-uni.geojson\n",
      "Oujda-hospital.geojson\n",
      "Oujda-townhall.geojson\n",
      "Oujda-marketplace.geojson\n",
      "Saint Domingue-uni.geojson\n",
      "Saint Domingue-hospital.geojson\n",
      "Saint Domingue-townhall.geojson\n",
      "Saint Domingue-marketplace.geojson\n",
      "Fès-uni.geojson\n",
      "Fès-hospital.geojson\n",
      "Fès-townhall.geojson\n",
      "Fès-marketplace.geojson\n",
      "Safi-uni.geojson\n",
      "Safi-hospital.geojson\n",
      "Safi-townhall.geojson\n",
      "Safi-marketplace.geojson\n",
      "Marrakech-uni.geojson\n",
      "Marrakech-hospital.geojson\n",
      "Marrakech-townhall.geojson\n",
      "Marrakech-marketplace.geojson\n",
      "Bafoussam-uni.geojson\n",
      "Bafoussam-hospital.geojson\n",
      "Bafoussam-townhall.geojson\n",
      "Bafoussam-marketplace.geojson\n",
      "Tanger-uni.geojson\n",
      "Tanger-hospital.geojson\n",
      "Tanger-townhall.geojson\n",
      "Tanger-marketplace.geojson\n",
      "Yaoundé-uni.geojson\n",
      "Yaoundé-hospital.geojson\n",
      "Yaoundé-townhall.geojson\n",
      "Yaoundé-marketplace.geojson\n",
      "Khourigba-uni.geojson\n",
      "Khourigba-hospital.geojson\n",
      "Khourigba-townhall.geojson\n",
      "Khourigba-marketplace.geojson\n",
      "Ej Jadida-uni.geojson\n",
      "Ej Jadida-hospital.geojson\n",
      "Ej Jadida-townhall.geojson\n",
      "Ej Jadida-marketplace.geojson\n",
      "Jakarta-uni.geojson\n",
      "Jakarta-hospital.geojson\n",
      "Jakarta-townhall.geojson\n",
      "Jakarta-marketplace.geojson\n",
      "Rabat-uni.geojson\n",
      "Rabat-hospital.geojson\n",
      "Rabat-townhall.geojson\n",
      "Rabat-marketplace.geojson\n",
      "Bandung-uni.geojson\n",
      "Bandung-hospital.geojson\n",
      "Bandung-townhall.geojson\n",
      "Bandung-marketplace.geojson\n",
      "Agadir-uni.geojson\n",
      "Agadir-hospital.geojson\n",
      "Agadir-townhall.geojson\n",
      "Agadir-marketplace.geojson\n",
      "Khenisset-uni.geojson\n",
      "Khenisset-hospital.geojson\n",
      "Khenisset-townhall.geojson\n",
      "Khenisset-marketplace.geojson\n",
      "Settat-uni.geojson\n",
      "Settat-hospital.geojson\n",
      "Settat-townhall.geojson\n",
      "Settat-marketplace.geojson\n",
      "Beni melal-uni.geojson\n",
      "Beni melal-hospital.geojson\n",
      "Beni melal-townhall.geojson\n",
      "Beni melal-marketplace.geojson\n",
      "Nkongsamba-uni.geojson\n",
      "Nkongsamba-hospital.geojson\n",
      "Nkongsamba-townhall.geojson\n",
      "Nkongsamba-marketplace.geojson\n",
      "Laayoune-uni.geojson\n",
      "Laayoune-hospital.geojson\n",
      "Laayoune-townhall.geojson\n",
      "Laayoune-marketplace.geojson\n",
      "Meknes-uni.geojson\n",
      "Meknes-hospital.geojson\n",
      "Meknes-townhall.geojson\n",
      "Meknes-marketplace.geojson\n",
      "Bamenda-uni.geojson\n",
      "Bamenda-hospital.geojson\n",
      "Bamenda-townhall.geojson\n",
      "Bamenda-marketplace.geojson\n",
      "Douala-uni.geojson\n",
      "Douala-hospital.geojson\n",
      "Douala-townhall.geojson\n",
      "Douala-marketplace.geojson\n"
     ]
    }
   ],
   "source": [
    "import overpass\n",
    "from string import Template\n",
    "\n",
    "\n",
    "places_list = ['hospital', 'marketplace','uni','townhall']\n",
    "api = overpass.API()\n",
    "dict_query = {'hospital' : '''(\n",
    "      node[\"amenity\"=\"hospital\"]$bbox;\n",
    "      way[\"amenity\"=\"hospital\"]$bbox;\n",
    "      relation[\"amenity\"=\"hospital\"]$bbox;\n",
    "    )''' ,  'uni' : '''(\n",
    "      node[\"amenity\"=\"university\"]$bbox;\n",
    "      way[\"amenity\"=\"university\"]$bbox;\n",
    "      relation[\"amenity\"=\"university\"]$bbox;\n",
    "    )''' , 'townhall' : ''' (\n",
    "      node[\"amenity\"=\"townhall\"]$bbox;\n",
    "      way[\"amenity\"=\"townhall\"]$bbox;\n",
    "      relation[\"amenity\"=\"townhall\"]$bbox;\n",
    "    )\n",
    "    ''' , 'marketplace' :'''\n",
    "    ( node[\"amenity\"=\"marketplace\"]$bbox;\n",
    "      way[\"amenity\"=\"marketplace\"]$bbox;\n",
    "      relation[\"amenity\"=\"marketplace\"]$bbox;\n",
    "    )\n",
    "    '''}\n",
    "\n",
    "for i in bbox:\n",
    "    temp = str(bbox[i])\n",
    "    \n",
    "    bb = \"(\"+temp[1:-1]+\")\"\n",
    "\n",
    "    Input = {'bbox': bb}\n",
    "\n",
    "\n",
    "\n",
    "    for z in dict_query:\n",
    "        t = Template(dict_query[z]).safe_substitute(Input)\n",
    "        response= api.Get(t)\n",
    "        #nam = i.replace(' ','')\n",
    "        Input_save = {'query' : z, 'nam' : i}\n",
    "        name = Template('$nam-$query.geojson').safe_substitute(Input_save)\n",
    "        print(name)\n",
    "        with open('data/'+name, \"w\") as f: f.write(str(response))\n"
   ]
  },
  {
   "cell_type": "markdown",
   "metadata": {},
   "source": [
    "### Phase 3:Create City \n",
    "\n"
   ]
  },
  {
   "cell_type": "code",
   "execution_count": 23,
   "metadata": {
    "collapsed": false
   },
   "outputs": [
    {
     "name": "stdout",
     "output_type": "stream",
     "text": [
      "{'Surabaya': [-7.2574719, 112.7520883], 'K\\xc3\\xa9nitra': [34.2540503, -6.5890166], 'Ngaound\\xc3\\xa9r\\xc3\\xa9': [7.338148800000001, 13.5668302], 'Oujda': [34.681962, -1.900155], 'Saint Domingue': [18.4860575, -69.93121169999999], 'F\\xc3\\xa8s': [34.0181246, -5.0078451], 'Safi': [32.3008151, -9.2272033], 'Marrakech': [31.6294723, -7.981084500000001], 'Bafoussam': [5.4807517, 10.4284178], 'Tanger': [35.7594651, -5.833954299999999], 'Yaound\\xc3\\xa9': [3.8480325, 11.5020752], 'Khourigba': [32.886023, -6.9208655], 'Ej Jadida': [33.2316326, -8.500711599999999], 'Jakarta': [-6.1744651, 106.822745], 'Rabat': [33.9715904, -6.8498129], 'Bandung': [-6.9174639, 107.6191228], 'Agadir': [30.4277547, -9.5981072], 'Khenisset': [33.8153704, -6.0573302], 'Settat': [32.99242419999999, -7.622266499999999], 'Beni melal': [32.342443, -6.375799], 'Nkongsamba': [4.974116899999999, 9.9353318], 'Laayoune': [27.1252867, -13.1625005], 'Meknes': [33.8730164, -5.5407299], 'Bamenda': [5.9630513, 10.1591213], 'Douala': [4.0510564, 9.7678687]}\n"
     ]
    }
   ],
   "source": [
    "print(coo)"
   ]
  },
  {
   "cell_type": "code",
   "execution_count": 25,
   "metadata": {
    "collapsed": false
   },
   "outputs": [
    {
     "name": "stdout",
     "output_type": "stream",
     "text": [
      "{1:[-7.2574719, 112.7520883],2:[34.2540503, -6.5890166],3:[7.338148800000001, 13.5668302],4:[34.681962, -1.900155],5:[18.4860575, -69.93121169999999],6:[34.0181246, -5.0078451],7:[32.3008151, -9.2272033],8:[31.6294723, -7.981084500000001],9:[5.4807517, 10.4284178],10:[35.7594651, -5.833954299999999],11:[3.8480325, 11.5020752],12:[32.886023, -6.9208655],13:[33.2316326, -8.500711599999999],14:[-6.1744651, 106.822745],15:[33.9715904, -6.8498129],16:[-6.9174639, 107.6191228],17:[30.4277547, -9.5981072],18:[33.8153704, -6.0573302],19:[32.99242419999999, -7.622266499999999],20:[32.342443, -6.375799],21:[4.974116899999999, 9.9353318],22:[27.1252867, -13.1625005],23:[33.8730164, -5.5407299],24:[5.9630513, 10.1591213],25:[4.0510564, 9.7678687]}\n"
     ]
    }
   ],
   "source": [
    "liste= ''\n",
    "dicte = ''\n",
    "dict_gps = ''\n",
    "k = 1\n",
    "for i in coo:\n",
    "    Input = {\"k\":k, \"i\": i, \"gps\": coo[i]}\n",
    "    liste += Template('{id: $k, name:\"$i\" },').safe_substitute(Input)\n",
    "    dicte +=  Template('$k:\"$i\",').safe_substitute(Input)\n",
    "    dict_gps +=  Template('$k:$gps,').safe_substitute(Input)\n",
    "\n",
    "    \n",
    "    k +=1\n",
    "\n",
    "liste = \"[\"+liste+\"]\"\n",
    "dict_gps = \"{\"+dict_gps[:-1]+\"}\"\n",
    "dicte = \"{\"+dicte[:-1]+\"}\"\n",
    "\n"
   ]
  },
  {
   "cell_type": "code",
   "execution_count": 26,
   "metadata": {
    "collapsed": false
   },
   "outputs": [
    {
     "name": "stdout",
     "output_type": "stream",
     "text": [
      "var City = {\n",
      "\tmymap: \"\",\n",
      "\n",
      "\tlist: [{id: 1, name:\"Surabaya\" },{id: 2, name:\"Kénitra\" },{id: 3, name:\"Ngaoundéré\" },{id: 4, name:\"Oujda\" },{id: 5, name:\"Saint Domingue\" },{id: 6, name:\"Fès\" },{id: 7, name:\"Safi\" },{id: 8, name:\"Marrakech\" },{id: 9, name:\"Bafoussam\" },{id: 10, name:\"Tanger\" },{id: 11, name:\"Yaoundé\" },{id: 12, name:\"Khourigba\" },{id: 13, name:\"Ej Jadida\" },{id: 14, name:\"Jakarta\" },{id: 15, name:\"Rabat\" },{id: 16, name:\"Bandung\" },{id: 17, name:\"Agadir\" },{id: 18, name:\"Khenisset\" },{id: 19, name:\"Settat\" },{id: 20, name:\"Beni melal\" },{id: 21, name:\"Nkongsamba\" },{id: 22, name:\"Laayoune\" },{id: 23, name:\"Meknes\" },{id: 24, name:\"Bamenda\" },{id: 25, name:\"Douala\" },] ,\n",
      "\n",
      "\tdict: {1:\"Surabaya\",2:\"Kénitra\",3:\"Ngaoundéré\",4:\"Oujda\",5:\"Saint Domingue\",6:\"Fès\",7:\"Safi\",8:\"Marrakech\",9:\"Bafoussam\",10:\"Tanger\",11:\"Yaoundé\",12:\"Khourigba\",13:\"Ej Jadida\",14:\"Jakarta\",15:\"Rabat\",16:\"Bandung\",17:\"Agadir\",18:\"Khenisset\",19:\"Settat\",20:\"Beni melal\",21:\"Nkongsamba\",22:\"Laayoune\",23:\"Meknes\",24:\"Bamenda\",25:\"Douala\"},\n",
      "\tdict_gps: {1:[-7.2574719, 112.7520883],2:[34.2540503, -6.5890166],3:[7.338148800000001, 13.5668302],4:[34.681962, -1.900155],5:[18.4860575, -69.93121169999999],6:[34.0181246, -5.0078451],7:[32.3008151, -9.2272033],8:[31.6294723, -7.981084500000001],9:[5.4807517, 10.4284178],10:[35.7594651, -5.833954299999999],11:[3.8480325, 11.5020752],12:[32.886023, -6.9208655],13:[33.2316326, -8.500711599999999],14:[-6.1744651, 106.822745],15:[33.9715904, -6.8498129],16:[-6.9174639, 107.6191228],17:[30.4277547, -9.5981072],18:[33.8153704, -6.0573302],19:[32.99242419999999, -7.622266499999999],20:[32.342443, -6.375799],21:[4.974116899999999, 9.9353318],22:[27.1252867, -13.1625005],23:[33.8730164, -5.5407299],24:[5.9630513, 10.1591213],25:[4.0510564, 9.7678687]},\n",
      "\tselected: \"Agadir\",\n",
      "\tselectedgps: [30.4277547, -9.5981072],\n",
      "\trefresh: function() {\n",
      "\t\t\n",
      "\t\tm.mount(document.getElementById(\"leafletmap\"), null);\n",
      "\t\tm.mount(document.getElementById(\"leafletmap\"), Map);\n",
      "\t\taddmap(this.selectedgps, this.selected);\n",
      "\t}\n",
      "\n",
      "\n",
      "\n",
      "};\n"
     ]
    }
   ],
   "source": [
    "\n",
    "template_city = '''var City = {\n",
    "\tmymap: \"\",\n",
    "\n",
    "\tlist: $liste ,\n",
    "\n",
    "\tdict: $dicte,\n",
    "\tdict_gps: $dict_gps,\n",
    "\tselected: \"Agadir\",\n",
    "\tselectedgps: [30.4277547, -9.5981072],\n",
    "\trefresh: function() {\n",
    "\t\t\n",
    "\t\tm.mount(document.getElementById(\"leafletmap\"), null);\n",
    "\t\tm.mount(document.getElementById(\"leafletmap\"), Map);\n",
    "\t\taddmap(this.selectedgps, this.selected);\n",
    "\t}\n",
    "\n",
    "\n",
    "\n",
    "};'''\n",
    "\n",
    "Input = {\"liste\": liste, \"dicte\":dicte, \"dict_gps\": dict_gps}\n",
    "city = Template(template_city).safe_substitute(Input)\n",
    "\n",
    "print(city)"
   ]
  },
  {
   "cell_type": "code",
   "execution_count": null,
   "metadata": {
    "collapsed": true
   },
   "outputs": [],
   "source": []
  }
 ],
 "metadata": {
  "anaconda-cloud": {},
  "celltoolbar": "Slideshow",
  "kernelspec": {
   "display_name": "Python 2",
   "language": "python",
   "name": "python2"
  },
  "language_info": {
   "codemirror_mode": {
    "name": "ipython",
    "version": 2
   },
   "file_extension": ".py",
   "mimetype": "text/x-python",
   "name": "python",
   "nbconvert_exporter": "python",
   "pygments_lexer": "ipython2",
   "version": "2.7.13"
  }
 },
 "nbformat": 4,
 "nbformat_minor": 0
}
