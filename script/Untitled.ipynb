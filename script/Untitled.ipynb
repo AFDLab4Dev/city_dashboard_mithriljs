{
 "cells": [
  {
   "cell_type": "code",
   "execution_count": 1,
   "metadata": {
    "collapsed": true
   },
   "outputs": [],
   "source": [
    "#Get dependencies \n",
    "\n",
    "import pickle\n",
    "from string import Template\n",
    "import geocoder\n",
    "\n",
    "from string import Template\n",
    "import json\n",
    "from urllib.request import urlopen\n",
    "import urllib\n",
    "\n",
    "import re\n",
    "import pickle\n",
    "\n",
    "\n",
    "\n",
    "# To be set in a json\n",
    "\n",
    "Cameroun = [\"Yaoundé\"]\n",
    "#, \"Douala\", \"Bamenda\", \"Bafoussam\", \"Ngaoundéré\", \"Nkongsamba\", \"Belel\", \"Garoua\", \"Maroua\"]\n",
    "\n",
    "liste_pays = {\"Cameroun\": Cameroun}\n",
    "\n",
    "\n",
    "\n",
    "country = 1\n",
    "menu =\"\"\n",
    "dict_country = \"\"\n",
    "dict_menu= \"\"\n",
    "dicte = \"\"\n",
    "dict_gps = \"\"\n",
    "coo = {}\n",
    "bbox = {}\n",
    "\n",
    "\n",
    "for i in liste_pays:\n",
    "\n",
    "    city = 1\n",
    "    Input_p = {\"id\": str(country), \"i\": i }\n",
    "    \n",
    "    menu += Template('{id: \"$id\", name:\"$i\" },').safe_substitute(Input_p)\n",
    "    dict_country += Template('\"$id\":\"$i\",').safe_substitute(Input_p)\n",
    "    dict_menu_t= ''\n",
    "    \n",
    "    for j in liste_pays[i]:\n",
    "        g = geocoder.google(j)\n",
    "        \n",
    "        t =g.latlng\n",
    "        k= str(country)+\"_\"+str(city)\n",
    "        \n",
    "        Input_c = {\"k\":k, \"i\": j, \"gps\": t}\n",
    "        \n",
    "        \n",
    "        \n",
    "        dict_menu_t += Template('{id: \"$k\", name:\"$i\" },').safe_substitute(Input_c)\n",
    "        dicte +=  Template('\"$k\":\"$i\",').safe_substitute(Input_c)\n",
    "        dict_gps +=  Template('\"$k\":$gps,').safe_substitute(Input_c)\n",
    "\n",
    "        coo[j] =  t\n",
    "        bbox[j] = [t[0]-0.5, t[1]-0.5, t[0]+0.5, t[1]+0.5]\n",
    "        \n",
    "        city +=1 \n",
    "        \n",
    "        \n",
    "    dict_menu += '\"'+i+'\":['+dict_menu_t+'],'\n",
    "    country +=1\n",
    "    \n",
    "    selected_country = '\"'+i+'\"'\n",
    "    selected_city = '\"' + j + '\"'\n",
    "    selected_gps = t\n",
    "\n",
    "\n",
    "dict_menu = \"{\"+dict_menu[:-1]+\"}\"\n",
    "dict_gps = \"{\"+dict_gps[:-1]+\"}\"\n",
    "dicte = \"{\"+dicte[:-1]+\"}\"\n",
    "menu= \"[\"+menu+\"]\"\n",
    "dict_country = \"{\"+dict_country[:-1]+'}'\n",
    "\n"
   ]
  },
  {
   "cell_type": "code",
   "execution_count": 5,
   "metadata": {
    "collapsed": false
   },
   "outputs": [
    {
     "name": "stdout",
     "output_type": "stream",
     "text": [
      "[out:json]; way[\"highway\"=\"trunk\"](3.3480325, 11.0020752, 4.3480325, 12.0020752);\n",
      "      out geom body qt; relation[\"highway\"=\"hospital\"](3.3480325, 11.0020752, 4.3480325, 12.0020752); out geom body qt; way[\"highway\"=\"primary\"](3.3480325, 11.0020752, 4.3480325, 12.0020752);\n",
      "      out geom body qt; relation[\"highway\"=\"primary\"](3.3480325, 11.0020752, 4.3480325, 12.0020752); out geom body qt;\n",
      "      \n",
      "<class 'bytes'>\n"
     ]
    }
   ],
   "source": [
    "http = 'http://overpass-api.de/api/interpreter?'\n",
    "\n",
    "\n",
    "dict_query = {'road' : '''[out:json]; way[\"highway\"=\"trunk\"]$bbox;\n",
    "      out geom body qt; relation[\"highway\"=\"hospital\"]$bbox; out geom body qt; way[\"highway\"=\"primary\"]$bbox;\n",
    "      out geom body qt; relation[\"highway\"=\"primary\"]$bbox; out geom body qt;\n",
    "      '''  }\n",
    "\n",
    "for i in bbox:\n",
    "    temp = str(bbox[i])\n",
    "    bb = \"(\"+temp[1:-1]+\")\"\n",
    "    Input = {'bbox': bb}\n",
    "    for z in dict_query:\n",
    "        query = Template(dict_query[z]).safe_substitute(Input)\n",
    "        \n",
    "        print(query)\n",
    "        query_string = urllib.parse.urlencode({'data': query})\n",
    "        query_string = query_string.encode('utf-8')\n",
    "        print(type(query_string))\n",
    "\n",
    "        try:\n",
    "            response = urlopen(url=http, data=query_string).read()\n",
    "        except :\n",
    "            print(\"Oups\")\n",
    "\n",
    "        Input_save = {'query' : z, 'nam' : i}\n",
    "        name = Template('$nam-$query-center.json').safe_substitute(Input_save)\n",
    "        with open(name, \"w\") as f: f.write(response.decode('utf-8'))\n",
    "\n",
    "            \n",
    "#json still need to be processed with bash + osmtogeojson \n",
    "# IN BASH: for file in *.json; do osmtogeojson  \"$file\" >  \"${file%.json}.geojson\" ; done"
   ]
  },
  {
   "cell_type": "code",
   "execution_count": null,
   "metadata": {
    "collapsed": true
   },
   "outputs": [],
   "source": []
  }
 ],
 "metadata": {
  "kernelspec": {
   "display_name": "Python 3",
   "language": "python",
   "name": "python3"
  },
  "language_info": {
   "codemirror_mode": {
    "name": "ipython",
    "version": 3
   },
   "file_extension": ".py",
   "mimetype": "text/x-python",
   "name": "python",
   "nbconvert_exporter": "python",
   "pygments_lexer": "ipython3",
   "version": "3.6.0"
  }
 },
 "nbformat": 4,
 "nbformat_minor": 2
}
